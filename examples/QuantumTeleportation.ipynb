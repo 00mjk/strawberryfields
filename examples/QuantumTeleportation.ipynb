{
 "cells": [
  {
   "cell_type": "markdown",
   "metadata": {},
   "source": [
    "<script>\n",
    "  jQuery(document).ready(function($) {\n",
    "\n",
    "  $(window).load(function(){\n",
    "    $('#preloader').fadeOut('slow',function(){$(this).remove();});\n",
    "  });\n",
    "\n",
    "  });\n",
    "</script>\n",
    "\n",
    "<style type=\"text/css\">\n",
    "  div#preloader { position: fixed;\n",
    "      left: 0;\n",
    "      top: 0;\n",
    "      z-index: 999;\n",
    "      width: 100%;\n",
    "      height: 100%;\n",
    "      overflow: visible;\n",
    "      background: #fff url('http://preloaders.net/preloaders/720/Moving%20line.gif') no-repeat center center;\n",
    "  }\n",
    "\n",
    "</style>\n",
    "\n",
    "<div id=\"preloader\"></div>"
   ]
  },
  {
   "cell_type": "markdown",
   "metadata": {},
   "source": [
    "<table width=60% >\n",
    "    <tr style=\"background-color: white;\">\n",
    "        <td><img src='https://www.creativedestructionlab.com/wp-content/uploads/2018/05/xanadu.jpg'></td>\n",
    "<!--         <td><img src='https://www.creativedestructionlab.com/wp-content/uploads/2016/10/creative-destruction-lab.png' ></td> -->\n",
    "    </tr>\n",
    "</table>\n",
    "\n",
    "---\n",
    "\n",
    "<img src='https://raw.githubusercontent.com/XanaduAI/strawberryfields/master/doc/_static/strawberry-fields-text.png'>\n",
    "\n",
    "---\n",
    "\n",
    "<br>\n",
    "\n",
    "<center> <h1> Quantum teleportation </h1></center>\n",
    "\n",
    "<div class=\"alert alert-info\">\n",
    "“A trick that quantum magicians use to produce phenomena that cannot be imitated by classical magicians.” - A. Peres\n",
    "</div>\n",
    "\n",
    "To get a feel for how Strawberry Fields works, let's walk through an example of quantum teleportation.\n"
   ]
  },
  {
   "cell_type": "markdown",
   "metadata": {},
   "source": [
    "## Background info\n",
    "Quantum teleportation is the reliable transfer of an unknown quantum state across spatially separated qubits or qumodes, through the use of a classical transmission channel and quantum entanglement. Considered a fundamental quantum information protocol, it has applications ranging from quantum communication to enabling distributed information processing in quantum computation.\n",
    "\n",
    "In general, all quantum teleportation circuits work on the same basic principle. Two distant observers, Alice and Bob, share a maximally entangled quantum state (in discrete variables, any one of the four Bell states; or in CV, a maximally entangled state for a fixed energy), and have access to a classical communication channel. Alice, in possession of an unknown state which she wishes to transport to Bob, makes a joint measurement of the unknown state and her half of the entangled state, by projecting onto the Bell basis. By transmitting the results of her measurement to Bob, Bob is then able to transform his half of the entangled state to an accurate replica of the original unknown state, by performing a conditional phase flip (for qubits) or displacement (for qumodes)."
   ]
  },
  {
   "cell_type": "markdown",
   "metadata": {},
   "source": [
    "## The teleportation circuit\n",
    "\n",
    "<img src='https://strawberryfields.readthedocs.io/en/stable/_images/teleport.svg' width=90%>"
   ]
  },
  {
   "cell_type": "markdown",
   "metadata": {},
   "source": [
    "$$\\newcommand{ket}[1]{\\left|#1\\right\\rangle}$$\n",
    "\n",
    "* Here, qumodes $q_1$ and $q_2$ are initially prepared as highly squeezed vacuum states in momentum and position space respectively. We do this by highly squeezing these two qumodes in the phase space:\n",
    "\n",
    "\\begin{align}\n",
    "&\\ket{0}_x \\approx S(2)\\ket{0}\\\\\n",
    "&\\ket{0}_p \\approx S(-2) \\ket{0}\n",
    "\\end{align}\n",
    "\n",
    "\n",
    "* They are then maximally entangled by a 50-50 beamsplitter. This is a beamsplitter with parameters $\\theta=\\pi/4$, $\\phi=0$.\n",
    "\n",
    "\n",
    "\n",
    "* These two qumodes are now spatially separated, with $\\ket{q_1}$ held by Alice, and $\\ket{q_2}$ held by Bob, with the two connected via the classical communication channels $c_0$ and $c_1$.\n",
    "\n",
    "\n",
    "* To teleport her unknown state $\\ket{\\psi}$ to Bob, Alice now performs a projective measurement of her entire system onto the maximally entangled basis states. This is done by entangling $\\ket{\\psi}$ and $\\ket{q_1}$ via another 50-50 beamsplitter, before performing two homodyne measurements, in the $x$ and $p$ quadratures respectively. The two resulting measurements are referred to as $m_1$ and $m_2$.\n",
    "\n",
    "\n",
    "* The results of these measurements are then transmitted to Bob, who performs both a position displacement (conditional on the $x$ measurement) using a $X$ gate, and a momentum displacement (conditional on the $p$ measurement) using a $Z$ gate, to recover exactly the transmitted state $\\ket{\\psi}$. In particular, Bob has to make the following displacements:\n",
    "\n",
    "\\begin{align}\n",
    "Z\\left(-\\sqrt{2}m_2\\right)X\\left(\\sqrt{2}m_1\\right)\\ket{q_2}\n",
    "\\end{align}"
   ]
  },
  {
   "cell_type": "markdown",
   "metadata": {},
   "source": [
    "## Importing Strawberry Fields"
   ]
  },
  {
   "cell_type": "markdown",
   "metadata": {},
   "source": [
    "We import the Strawberry Fields, as well as all quantum operations, using the following commands:"
   ]
  },
  {
   "cell_type": "code",
   "execution_count": 1,
   "metadata": {},
   "outputs": [],
   "source": [
    "import strawberryfields as sf\n",
    "from strawberryfields.ops import *"
   ]
  },
  {
   "cell_type": "markdown",
   "metadata": {},
   "source": [
    "The first import statement imports Strawberry Fields as sf, allowing us to access the engine and backends. The second import statement imports all available CV gates into the global namespace.\n",
    "\n",
    "In addition, we will also need some utilities from the `utils` subpackage, a module containing Strawberry Fields utilities and extensions. Finally, we import $\\pi$ and the square root from NumPy so that we can pass angle parameters to gates such as beamsplitters, and perform some custom classical processing."
   ]
  },
  {
   "cell_type": "code",
   "execution_count": 2,
   "metadata": {},
   "outputs": [],
   "source": [
    "from strawberryfields.utils import scale\n",
    "from numpy import pi, sqrt"
   ]
  },
  {
   "cell_type": "markdown",
   "metadata": {},
   "source": [
    "\n",
    "<div class=\"alert alert-success\" style=\"border: 0px; border-left: 3px solid #119a68; color: black; background-color: #daf0e9\">\n",
    "<p style=\"color: #119a68;\">**Available CV gates**</p>\n",
    "\n",
    "Check out our <a href=\"https://strawberryfields.readthedocs.io/en/stable/op_conventions.html\">documentation</a> to see the available CV gates, states, measurements, and other operations available in Strawberry Fields.\n",
    "</div>\n"
   ]
  },
  {
   "cell_type": "markdown",
   "metadata": {},
   "source": [
    "## Program initialization\n",
    "\n",
    "In Strawberry Fields, a quantum computation (or quantum circuit) are encapsulatd in a `Program` object, which has the following syntax:\n",
    "\n",
    "    prog = sf.Program(num_subsystems)\n",
    "\n",
    "where\n",
    "\n",
    "* `num_subsystems` (*int*) is the number of modes we want to initialize in our quantum register.\n",
    "\n",
    "This command will create an empty program, ready to be populated with various operations that make up a quantum computation."
   ]
  },
  {
   "cell_type": "code",
   "execution_count": 3,
   "metadata": {},
   "outputs": [],
   "source": [
    "prog = sf.Program(3)"
   ]
  },
  {
   "cell_type": "markdown",
   "metadata": {},
   "source": [
    "## Circuit construction\n",
    "\n",
    "In Strawberry Fields, circuit construction *always* occurs within a `Program` context. Inside this context, operations are applied using the syntax\n",
    "\n",
    "```python3\n",
    "with prog.context as q:\n",
    "    Operation(arguments) | (sequence of qumodes within q)\n",
    "```\n",
    "\n",
    "For example, to apply prepare a squeezed state, followed by a beamsplitter, we can write\n",
    "\n",
    "```python3\n",
    "with prog.context as q:\n",
    "    Squeezed(0.5) | q[0]\n",
    "    BSgate(pi/4, 0) | (q[0], q[1])\n",
    "```\n",
    "\n",
    "Some operations in Strawberry Fields apply to one mode, and some apply to two. Be sure to consult the documentation to double check the operation arguments, and to see how many qumodes they act on.\n",
    "\n",
    "<div class=\"alert alert-info\" style=\"border: 0px; border-left: 3px solid #31708f; color: black; background-color: #d9edf7\">\n",
    "<p style=\"color: #31708f;\">**Exercise**</p>\n",
    "\n",
    "The cell below corresponding to the teleportation circuit is partially complete. Using the above, and referring to the docs, fill in the cell below to finish constructing the teleportation circuit.\n",
    "</div>\n",
    "\n"
   ]
  },
  {
   "cell_type": "code",
   "execution_count": 4,
   "metadata": {},
   "outputs": [],
   "source": [
    "with prog.context as q:\n",
    "    # prepare the initial states\n",
    "    Coherent(1+0.5j) | q[0]  # This is the state we will teleport\n",
    "    Sgate(-2) | q[1]\n",
    "    Sgate(2) | q[2]\n",
    "    \n",
    "    # apply the gates\n",
    "    BSgate(pi/4, 0) | (q[1], q[2])  # a 50-50 beamsplitter\n",
    "    BSgate(pi/4, 0) | (q[0], q[1])  # a 50-50 beamsplitter\n",
    "    \n",
    "    # perform the homodyne measurements\n",
    "    MeasureX | q[0]\n",
    "    MeasureP | q[1]    \n",
    "    \n",
    "    # displacement gates conditioned on the measurements\n",
    "    Xgate(scale(q[0], sqrt(2))) | q[2]\n",
    "    Zgate(scale(q[1], sqrt(2))) | q[2]"
   ]
  },
  {
   "cell_type": "markdown",
   "metadata": {},
   "source": [
    "A couple of things to note:\n",
    "\n",
    "* **Operations must be applied in temporal order.** Different operation orderings can result in the same quantum circuit, providing the operations do not apply sequentially to the same mode.\n",
    "\n",
    "\n",
    "* **Gates are standard Python objects, and can be treated as such.** In this case, since both beamsplitters use the same parameters, a single instance can be created and stored under variable BS.\n",
    "\n",
    "\n",
    "* **The results of measured modes are passed to gates simply by passing the measured mode as an argument.** In order to perform additional classical processing to the measured mode, we can use the basic classical processing functions available in `strawberryfields.utils`; here we used the `scale()` function.\n"
   ]
  },
  {
   "cell_type": "markdown",
   "metadata": {},
   "source": [
    "## Running the engine\n",
    "\n",
    "Once the circuit is constructed, you can execute the program using an `Engine` object. The Engine is responsible for sending the commands from your circuit to be executed on a particular backend. Engines are linked to a particular backend when they are created:\n",
    "\n",
    "```python3\n",
    "    eng = sf.Engine(backend, backend_options)\n",
    "```\n",
    "Here `backend` is a string representing the Strawberry Fields backend we wish to use; we have the choice of two Fock basis backends, the NumPy based (`'fock'`) and Tensorflow (`'tf'`), and one Gaussian representation backend (`'gaussian'`). Additionally, `backend_options` is a dictionary which contains any additional keyword arguments to be passed to the backend. For example, to create an engine linked to the Fock Backend, with a cutoff dimension of 10, we we write\n",
    "\n",
    "```python3\n",
    "    eng = sf.Engine('fock', backend_options={\"cutoff_dim\": 10})\n",
    "```\n",
    "\n",
    "To execute a program on the backend, we simply call `eng.run`:\n",
    "\n",
    "```python3\n",
    "    results = eng.run(prog, state_options)\n",
    "```\n",
    "Here, `prog` is a Strawberry Fields `Program` object (like the one we created above), and `state_options` is a dictionary of keyword arguments which can be used to specify additional options for the returned object. \n",
    "\n",
    "`eng.run()` returns a `Results` object which contains both measurement results and -- for local simulators -- a `State` object which contains the simulated quantum state of the circuit after execution of the program. Depending on backend used, the state returned might be a BaseFockState, which represents the state using the Fock/number basis, or might be a BaseGaussianState, which represents the state using Gaussian representation, as a vector of means and a covariance matrix. Many methods are provided for state manipulation, see [Quantum States API](https://strawberryfields.readthedocs.io/en/stable/code/backend.states.html) for more details.\n",
    "\n",
    "For more details on the technical differences between the backends, see the [Backend API](https://strawberryfields.readthedocs.io/en/stable/code/backend.html) in the documentation.\n",
    "\n",
    "### How do we choose a backend?\n",
    "\n",
    "\n",
    "* **Fock backends** are backends which represent the quantum state and operations via the Fock basis. <br>These can represent all possible continuous-variable states and operations, but also introduce numerical error due to truncation of the Fock space, and can consume more memory.\n",
    "\n",
    "\n",
    "* The **gaussian backend**, due to its ability to represent states and operations as gaussian objects/transforms in the phase space, can be less computationally intensive then the Fock backends. <br>However, it cannot represent non-gaussian operations and states (such as the cubic phase gate, and fock states, amongst others). The only exception to this is fock measurements: the gaussian backend can simulate measurement of Fock states, but it cannot update the state after doing so.</li>\n",
    "\n",
    "In the Fock backends, due to the infinite Hilbert space, we must specify a **cutoff dimension**. For example, choosing `cutoff_dim=5`, a state $|\\psi\\rangle$ has approximation\n",
    "\n",
    "$$|{\\psi}\\rangle = \\sum_{n=0}^\\infty c_n|{n}\\rangle \\approx\\sum_{n=0}^{5-1} c_n|{n}\\rangle$$\n",
    "\n",
    "in our truncated Fock basis - i.e. all information of quantum amplitudes of Fock states $|n\\rangle$, with $n\\geq 5$, is discarded.\n",
    "\n",
    "<div class=\"alert\" style=\"border: 0px; border-left: 3px solid #F0AD4E; color: black; background-color: #FFF1E3\">\n",
    "<p style=\"color: #9B5831;\">**Warning**</p>\n",
    "To avoid significant numerical error when working with the Fock backend, we generally need to ensure that all initial states and gates we apply result in negligible amplitude in the Fock basis for Fock states $|{n}\\rangle, ~~n\\geq \\texttt{cutoff_dim}$.\n",
    "<br><br>\n",
    "\n",
    "For example, to prepare a squeezed vacuum state in the $x$ quadrature with `cutoff_dim=10`, a squeezing factor of $r=1$ provides an acceptable approximation, since $\\left|\\left\\langle{n}\\middle|{\\xi}\\right\\rangle\\right|^2<0.02$ for $n\\geq 10$.\n",
    "</div>\n",
    "\n",
    "<div class=\"alert alert-success\" style=\"border: 0px; border-left: 3px solid #119a68; color: black; background-color: #daf0e9\">\n",
    "<p style=\"color: #119a68;\">**Scaling**</p>\n",
    "As we are performing a classical simualation of a quantum system, we still need to consider how the simulation scales. Using the Fock backends, memory usage and computational time will scale like $\\sim D^N$, where $N$ is the number of modes and $D$ the cutoff dimension.\n",
    "<br><br>\n",
    "Ideally, we would like to choose a cutoff large enough that minimises truncation error, but small enough to reduce classical computational resources!\n",
    "</div>\n",
    "\n",
    "\n",
    "<div class=\"alert alert-info\" style=\"border: 0px; border-left: 3px solid #31708f; color: black; background-color: #d9edf7\">\n",
    "<p style=\"color: #31708f;\">**Exercise**</p>\n",
    "\n",
    "Run the engine using the Gaussian or the Fock backend.\n",
    "\n",
    "</div>"
   ]
  },
  {
   "cell_type": "code",
   "execution_count": 5,
   "metadata": {},
   "outputs": [],
   "source": [
    "eng = sf.Engine('fock', backend_options={\"cutoff_dim\": 15})\n",
    "results = eng.run(prog)\n",
    "state = results.state"
   ]
  },
  {
   "cell_type": "markdown",
   "metadata": {},
   "source": [
    "## Results and visualization\n",
    "Once the engine has been run, we can extract results of measurements and the quantum state from the circuit. Any measurements performed on a mode are stored in the mode attribute `val`:"
   ]
  },
  {
   "cell_type": "code",
   "execution_count": 6,
   "metadata": {},
   "outputs": [
    {
     "data": {
      "text/plain": [
       "0.8091080910809119"
      ]
     },
     "execution_count": 6,
     "metadata": {},
     "output_type": "execute_result"
    }
   ],
   "source": [
    "q[0].val"
   ]
  },
  {
   "cell_type": "code",
   "execution_count": 7,
   "metadata": {},
   "outputs": [
    {
     "data": {
      "text/plain": [
       "-2.013120131201312"
      ]
     },
     "execution_count": 7,
     "metadata": {},
     "output_type": "execute_result"
    }
   ],
   "source": [
    "q[1].val"
   ]
  },
  {
   "cell_type": "markdown",
   "metadata": {},
   "source": [
    "The returned `results` object stores the resulting state of the circuit after the engine run within `results.state`. The state object also contains some convenient functions for state manipulation.\n",
    "\n",
    "<div class=\"alert alert-info\" style=\"border: 0px; border-left: 3px solid #31708f; color: black; background-color: #d9edf7\">\n",
    "<p style=\"color: #31708f;\">**Exercise**</p>\n",
    "\n",
    "Print the state object below to see some info about the state.\n",
    "\n",
    "</div>"
   ]
  },
  {
   "cell_type": "code",
   "execution_count": 8,
   "metadata": {},
   "outputs": [
    {
     "name": "stdout",
     "output_type": "stream",
     "text": [
      "<FockState: num_modes=3, cutoff=15, pure=False, hbar=2>\n"
     ]
    }
   ],
   "source": [
    "print(state)"
   ]
  },
  {
   "cell_type": "markdown",
   "metadata": {},
   "source": [
    "The actual state representation can also be returned; in the Fock backends, the state vector in the truncated Fock basis is available via `state.ket()`, while the density matrix is given by `state.dm()`. In the Gaussian backend, the vector of means and covariance matrix are accessible via `state.means()` and `state.cov()` respectively."
   ]
  },
  {
   "cell_type": "markdown",
   "metadata": {},
   "source": [
    "### Fock backend example\n",
    "To return the density matrix representing the Fock state, we can use the method state.dm(). In this case, the density matrix has dimension"
   ]
  },
  {
   "cell_type": "code",
   "execution_count": 9,
   "metadata": {},
   "outputs": [
    {
     "data": {
      "text/plain": [
       "(15, 15, 15, 15, 15, 15)"
      ]
     },
     "execution_count": 9,
     "metadata": {},
     "output_type": "execute_result"
    }
   ],
   "source": [
    "state.dm().shape"
   ]
  },
  {
   "cell_type": "markdown",
   "metadata": {},
   "source": [
    "Here, we use the convention that every pair of consecutive dimensions corresponds to a subsystem; i.e.,\n",
    "\n",
    "$$\\rho_{\\underbrace{ij}_{q[0]}\\underbrace{kl}_{q[1]}\\underbrace{mn}_{q[2]}}$$\n",
    "\n",
    "Thus we can calculate the reduced density matrix for mode `q[2]`, $\\rho_2$:"
   ]
  },
  {
   "cell_type": "code",
   "execution_count": 10,
   "metadata": {},
   "outputs": [
    {
     "data": {
      "text/plain": [
       "(15, 15)"
      ]
     },
     "execution_count": 10,
     "metadata": {},
     "output_type": "execute_result"
    }
   ],
   "source": [
    "import numpy as np\n",
    "rho2 = np.einsum('kkllij->ij', state.dm())\n",
    "rho2.shape"
   ]
  },
  {
   "cell_type": "markdown",
   "metadata": {},
   "source": [
    "<div class=\"alert alert-success\" style=\"border: 0px; border-left: 3px solid #119a68; color: black; background-color: #daf0e9\">\n",
    "<p style=\"color: #119a68;\">**Note**</p>\n",
    "The Fock state also provides the method `reduced_dm()` for extracting the reduced density matrix automatically.\n",
    "</div>"
   ]
  },
  {
   "cell_type": "code",
   "execution_count": 11,
   "metadata": {},
   "outputs": [
    {
     "data": {
      "text/plain": [
       "array([[ 3.32485634e-01+8.67361738e-19j,  3.19115127e-01-1.59317750e-01j,\n",
       "         1.43960373e-01-1.83597930e-01j,  7.88339194e-02-1.07215629e-01j,\n",
       "         3.46901901e-02-1.13533975e-01j, -2.57099271e-02-5.77485462e-02j,\n",
       "        -1.65250515e-02-2.97594161e-02j, -2.75572159e-02-5.60346804e-03j,\n",
       "        -8.54796265e-03-3.14399229e-03j, -1.57860080e-02+8.11070758e-03j,\n",
       "        -3.97346591e-03+9.30982052e-04j, -8.69441386e-03+8.19041163e-03j,\n",
       "        -3.19191683e-03-1.55940885e-03j, -4.76190371e-04+6.04890091e-03j,\n",
       "        -3.56681238e-03+3.89684775e-03j],\n",
       "       [ 3.19115127e-01+1.59317750e-01j,  3.82622877e-01-3.83807569e-17j,\n",
       "         2.26146137e-01-1.07233006e-01j,  1.27038418e-01-6.51290885e-02j,\n",
       "         8.76974488e-02-9.23457814e-02j,  2.99544319e-03-6.77457312e-02j,\n",
       "        -1.60064263e-03-3.64810164e-02j, -2.37640118e-02-1.85827730e-02j,\n",
       "        -6.69770415e-03-7.11350338e-03j, -1.90376155e-02+2.20334910e-04j,\n",
       "        -4.25977817e-03-1.01042920e-03j, -1.22693931e-02+3.69492593e-03j,\n",
       "        -2.31633297e-03-3.02617575e-03j, -3.35550389e-03+5.57747468e-03j,\n",
       "        -5.29063702e-03+2.03102472e-03j],\n",
       "       [ 1.43960373e-01+1.83597930e-01j,  2.26146137e-01+1.07233006e-01j,\n",
       "         1.63714709e-01-4.42354486e-17j,  9.33379514e-02-2.89052334e-03j,\n",
       "         7.77134793e-02-3.00023376e-02j,  2.07566949e-02-3.92010671e-02j,\n",
       "         9.27803882e-03-2.20104003e-02j, -8.83756064e-03-1.76432439e-02j,\n",
       "        -1.96500946e-03-6.08146141e-03j, -1.13137782e-02-5.20521109e-03j,\n",
       "        -2.23452666e-03-1.79104157e-03j, -8.28725636e-03-1.25473594e-03j,\n",
       "        -5.20940706e-04-2.43776669e-03j, -3.54637347e-03+2.35611523e-03j,\n",
       "        -3.69619826e-03-2.82321110e-04j],\n",
       "       [ 7.88339194e-02+1.07215629e-01j,  1.27038418e-01+6.51290885e-02j,\n",
       "         9.33379514e-02+2.89052334e-03j,  5.32653928e-02+6.20163643e-17j,\n",
       "         4.48361631e-02-1.57330036e-02j,  1.25260521e-02-2.19830558e-02j,\n",
       "         5.67826016e-03-1.23848816e-02j, -4.72701323e-03-1.02149002e-02j,\n",
       "        -1.01292884e-03-3.50189093e-03j, -6.35837246e-03-3.16737868e-03j,\n",
       "        -1.24233854e-03-1.06057118e-03j, -4.70262380e-03-8.61675721e-04j,\n",
       "        -2.53960789e-04-1.39903092e-03j, -2.06347763e-03+1.28066742e-03j,\n",
       "        -2.10231273e-03-2.26218045e-04j],\n",
       "       [ 3.46901901e-02+1.13533975e-01j,  8.76974488e-02+9.23457814e-02j,\n",
       "         7.77134793e-02+3.00023376e-02j,  4.48361631e-02+1.57330036e-02j,\n",
       "         4.23879147e-02+1.73472348e-17j,  1.70369458e-02-1.48044239e-02j,\n",
       "         8.43780100e-03-8.74779023e-03j, -9.61789109e-04-9.99461416e-03j,\n",
       "         1.81720607e-04-3.24690680e-03j, -4.41661335e-03-4.54421513e-03j,\n",
       "        -7.32477905e-04-1.25968580e-03j, -3.70392201e-03-2.11433023e-03j,\n",
       "         1.99460296e-04-1.25264719e-03j, -2.11520386e-03+4.68512686e-04j,\n",
       "        -1.70280444e-03-8.11379408e-04j],\n",
       "       [-2.57099271e-02+5.77485462e-02j,  2.99544319e-03+6.77457312e-02j,\n",
       "         2.07566949e-02+3.92010671e-02j,  1.25260521e-02+2.19830558e-02j,\n",
       "         1.70369458e-02+1.48044239e-02j,  1.20182484e-02+1.21430643e-17j,\n",
       "         6.44665714e-03-5.69002876e-04j,  3.10415260e-03-4.35304342e-03j,\n",
       "         1.20705510e-03-1.24155922e-03j, -1.88051603e-04-3.36900185e-03j,\n",
       "         1.45554135e-04-7.62130253e-04j, -7.50262847e-04-2.14344493e-03j,\n",
       "         5.17669112e-04-4.33812033e-04j, -1.01379542e-03-5.50448153e-04j,\n",
       "        -4.01024263e-04-9.20839489e-04j],\n",
       "       [-1.65250515e-02+2.97594161e-02j, -1.60064263e-03+3.64810164e-02j,\n",
       "         9.27803882e-03+2.20104003e-02j,  5.67826016e-03+1.23848816e-02j,\n",
       "         8.43780100e-03+8.74779023e-03j,  6.44665714e-03+5.69002876e-04j,\n",
       "         3.48496313e-03-7.80625564e-18j,  1.87117964e-03-2.18803155e-03j,\n",
       "         7.06252764e-04-6.08831548e-04j,  5.86331311e-05-1.81605513e-03j,\n",
       "         1.14159057e-04-4.01919777e-04j, -3.00964074e-04-1.18527724e-03j,\n",
       "         2.98219462e-04-2.08190257e-04j, -5.17744743e-04-3.43261588e-04j,\n",
       "        -1.71514645e-04-5.12930022e-04j],\n",
       "       [-2.75572159e-02+5.60346804e-03j, -2.37640118e-02+1.85827730e-02j,\n",
       "        -8.83756064e-03+1.76432439e-02j, -4.72701323e-03+1.02149002e-02j,\n",
       "        -9.61789109e-04+9.99461416e-03j,  3.10415260e-03+4.35304342e-03j,\n",
       "         1.87117964e-03+2.18803155e-03j,  2.37844563e-03-1.73472348e-18j,\n",
       "         7.61462413e-04+1.16520640e-04j,  1.17169075e-03-9.38280876e-04j,\n",
       "         3.13640408e-04-1.44127919e-04j,  5.82578947e-04-8.25370435e-04j,\n",
       "         2.90834939e-04+7.54533726e-05j, -6.24759086e-05-5.09372944e-04j,\n",
       "         2.29951460e-04-3.83092625e-04j],\n",
       "       [-8.54796265e-03+3.14399229e-03j, -6.69770415e-03+7.11350338e-03j,\n",
       "        -1.96500946e-03+6.08146141e-03j, -1.01292884e-03+3.50189093e-03j,\n",
       "         1.81720607e-04+3.24690680e-03j,  1.20705510e-03+1.24155922e-03j,\n",
       "         7.06252764e-04+6.08831548e-04j,  7.61462413e-04-1.16520640e-04j,\n",
       "         2.49491541e-04+5.20417043e-18j,  3.29151680e-04-3.57793243e-04j,\n",
       "         9.33515155e-05-6.15080591e-05j,  1.46078294e-04-2.92784088e-04j,\n",
       "         9.68076572e-05+9.90841818e-06j, -4.49560487e-05-1.60015690e-04j,\n",
       "         5.48514518e-05-1.33912973e-04j],\n",
       "       [-1.57860080e-02-8.11070758e-03j, -1.90376155e-02-2.20334910e-04j,\n",
       "        -1.13137782e-02+5.20521109e-03j, -6.35837246e-03+3.16737868e-03j,\n",
       "        -4.41661335e-03+4.54421513e-03j, -1.88051603e-04+3.36900185e-03j,\n",
       "         5.86331311e-05+1.81605513e-03j,  1.17169075e-03+9.38280876e-04j,\n",
       "         3.29151680e-04+3.57793243e-04j,  9.47354096e-04-1.73472348e-18j,\n",
       "         2.11365788e-04+5.27274810e-05j,  6.12598260e-04-1.76777729e-04j,\n",
       "         1.13507808e-04+1.51902938e-04j,  1.70166786e-04-2.75578095e-04j,\n",
       "         2.64408181e-04-9.80081376e-05j],\n",
       "       [-3.97346591e-03-9.30982052e-04j, -4.25977817e-03+1.01042920e-03j,\n",
       "        -2.23452666e-03+1.79104157e-03j, -1.24233854e-03+1.06057118e-03j,\n",
       "        -7.32477905e-04+1.25968580e-03j,  1.45554135e-04+7.62130253e-04j,\n",
       "         1.14159057e-04+4.01919777e-04j,  3.13640408e-04+1.44127919e-04j,\n",
       "         9.33515155e-05+6.15080591e-05j,  2.11365788e-04-5.27274810e-05j,\n",
       "         5.00928678e-05-4.11996826e-18j,  1.26838814e-04-7.35369461e-05j,\n",
       "         3.37794777e-05+2.75737483e-05j,  2.26281789e-05-7.09557782e-05j,\n",
       "         5.35376597e-05-3.65830946e-05j],\n",
       "       [-8.69441386e-03-8.19041163e-03j, -1.22693931e-02-3.69492593e-03j,\n",
       "        -8.28725636e-03+1.25473594e-03j, -4.70262380e-03+8.61675721e-04j,\n",
       "        -3.70392201e-03+2.11433023e-03j, -7.50262847e-04+2.14344493e-03j,\n",
       "        -3.00964074e-04+1.18527724e-03j,  5.82578947e-04+8.25370435e-04j,\n",
       "         1.46078294e-04+2.92784088e-04j,  6.12598260e-04+1.76777729e-04j,\n",
       "         1.26838814e-04+7.35369461e-05j,  4.29118316e-04-2.60208521e-18j,\n",
       "         4.50535122e-05+1.19407441e-04j,  1.61460163e-04-1.46446787e-04j,\n",
       "         1.89265712e-04-1.40371345e-05j],\n",
       "       [-3.19191683e-03+1.55940885e-03j, -2.31633297e-03+3.02617575e-03j,\n",
       "        -5.20940706e-04+2.43776669e-03j, -2.53960789e-04+1.39903092e-03j,\n",
       "         1.99460296e-04+1.25264719e-03j,  5.17669112e-04+4.33812033e-04j,\n",
       "         2.98219462e-04+2.08190257e-04j,  2.90834939e-04-7.54533726e-05j,\n",
       "         9.68076572e-05-9.90841818e-06j,  1.13507808e-04-1.51902938e-04j,\n",
       "         3.37794777e-05-2.75737483e-05j,  4.50535122e-05-1.19407441e-04j,\n",
       "         3.79567949e-05+9.10729825e-18j, -2.37987713e-05-6.03038510e-05j,\n",
       "         1.59651698e-05-5.41392797e-05j],\n",
       "       [-4.76190371e-04-6.04890091e-03j, -3.35550389e-03-5.57747468e-03j,\n",
       "        -3.54637347e-03-2.35611523e-03j, -2.06347763e-03-1.28066742e-03j,\n",
       "        -2.11520386e-03-4.68512686e-04j, -1.01379542e-03+5.50448153e-04j,\n",
       "        -5.17744743e-04+3.43261588e-04j, -6.24759086e-05+5.09372944e-04j,\n",
       "        -4.49560487e-05+1.60015690e-04j,  1.70166786e-04+2.75578095e-04j,\n",
       "         2.26281789e-05+7.09557782e-05j,  1.61460163e-04+1.46446787e-04j,\n",
       "        -2.37987713e-05+6.03038510e-05j,  1.10729475e-04+1.84314369e-17j,\n",
       "         7.60036678e-05+5.93097905e-05j],\n",
       "       [-3.56681238e-03-3.89684775e-03j, -5.29063702e-03-2.03102472e-03j,\n",
       "        -3.69619826e-03+2.82321110e-04j, -2.10231273e-03+2.26218045e-04j,\n",
       "        -1.70280444e-03+8.11379408e-04j, -4.01024263e-04+9.20839489e-04j,\n",
       "        -1.71514645e-04+5.12930022e-04j,  2.29951460e-04+3.83092625e-04j,\n",
       "         5.48514518e-05+1.33912973e-04j,  2.64408181e-04+9.80081376e-05j,\n",
       "         5.35376597e-05+3.65830946e-05j,  1.89265712e-04+1.40371345e-05j,\n",
       "         1.59651698e-05+5.41392797e-05j,  7.60036678e-05-5.93097905e-05j,\n",
       "         8.39361769e-05+1.58293517e-17j]])"
      ]
     },
     "execution_count": 11,
     "metadata": {},
     "output_type": "execute_result"
    }
   ],
   "source": [
    "state.reduced_dm([2])"
   ]
  },
  {
   "cell_type": "markdown",
   "metadata": {},
   "source": [
    "The diagonal values of the reduced density matrix contain the marginal Fock state probabilities $\\left|\\left\\langle{i}\\mid{\\rho_2}\\right\\rangle\\right|^2,~~ 0\\leq i< cutoff$:"
   ]
  },
  {
   "cell_type": "code",
   "execution_count": 12,
   "metadata": {},
   "outputs": [
    {
     "data": {
      "text/plain": [
       "array([3.32485634e-01, 3.82622877e-01, 1.63714709e-01, 5.32653928e-02,\n",
       "       4.23879147e-02, 1.20182484e-02, 3.48496313e-03, 2.37844563e-03,\n",
       "       2.49491541e-04, 9.47354096e-04, 5.00928678e-05, 4.29118316e-04,\n",
       "       3.79567949e-05, 1.10729475e-04, 8.39361769e-05])"
      ]
     },
     "execution_count": 12,
     "metadata": {},
     "output_type": "execute_result"
    }
   ],
   "source": [
    "np.real_if_close(np.diag(state.reduced_dm([2])))"
   ]
  },
  {
   "cell_type": "markdown",
   "metadata": {},
   "source": [
    "This can also be returned via the state method `all_fock_probs`."
   ]
  },
  {
   "cell_type": "markdown",
   "metadata": {},
   "source": [
    "### Plotting the Wigner function"
   ]
  },
  {
   "cell_type": "markdown",
   "metadata": {},
   "source": [
    "<div class=\"alert alert-info\" style=\"border: 0px; border-left: 3px solid #31708f; color: black; background-color: #d9edf7\">\n",
    "<p style=\"color: #31708f;\">**Exercise**</p>\n",
    "\n",
    "Using the `state.wigner` function, plot the wigner function of the input state and the resulting teleported state.\n",
    "\n",
    "</div>"
   ]
  },
  {
   "cell_type": "code",
   "execution_count": 13,
   "metadata": {},
   "outputs": [],
   "source": [
    "import matplotlib.pyplot as plt"
   ]
  },
  {
   "cell_type": "code",
   "execution_count": 14,
   "metadata": {},
   "outputs": [],
   "source": [
    "x = np.arange(-5, 5, 0.1)\n",
    "p = np.arange(-5, 5, 0.1)"
   ]
  },
  {
   "cell_type": "code",
   "execution_count": 15,
   "metadata": {},
   "outputs": [],
   "source": [
    "W = state.wigner(2, x, p)"
   ]
  },
  {
   "cell_type": "code",
   "execution_count": 16,
   "metadata": {},
   "outputs": [
    {
     "data": {
      "text/plain": [
       "(100, 100)"
      ]
     },
     "execution_count": 16,
     "metadata": {},
     "output_type": "execute_result"
    }
   ],
   "source": [
    "W.shape"
   ]
  },
  {
   "cell_type": "code",
   "execution_count": 17,
   "metadata": {},
   "outputs": [
    {
     "data": {
      "text/plain": [
       "<matplotlib.contour.QuadContourSet at 0x7ff1f2bc3550>"
      ]
     },
     "execution_count": 17,
     "metadata": {},
     "output_type": "execute_result"
    },
    {
     "data": {
      "image/png": "[encoded data removed]",
      "text/plain": [
       "<Figure size 432x288 with 1 Axes>"
      ]
     },
     "metadata": {
      "needs_background": "light"
     },
     "output_type": "display_data"
    }
   ],
   "source": [
    "X, P = np.meshgrid(x, p)\n",
    "plt.contourf(X, P, W)"
   ]
  },
  {
   "cell_type": "markdown",
   "metadata": {},
   "source": [
    "<div class=\"alert alert-info\" style=\"border: 0px; border-left: 3px solid #31708f; color: black; background-color: #d9edf7\">\n",
    "<p style=\"color: #31708f;\">**Exercise**</p>\n",
    "\n",
    "Repeat this notebook, but using the `'gaussian'` backend instead. How does the teleportation fidelity compare to the fock backend?\n",
    "\n",
    "</div>"
   ]
  },
  {
   "cell_type": "code",
   "execution_count": null,
   "metadata": {},
   "outputs": [],
   "source": []
  }
 ],
 "metadata": {
  "kernelspec": {
   "display_name": "Python 3",
   "language": "python",
   "name": "python3"
  },
  "language_info": {
   "codemirror_mode": {
    "name": "ipython",
    "version": 3
   },
   "file_extension": ".py",
   "mimetype": "text/x-python",
   "name": "python",
   "nbconvert_exporter": "python",
   "pygments_lexer": "ipython3",
   "version": "3.6.8"
  },
  "toc": {
   "nav_menu": {},
   "number_sections": true,
   "sideBar": true,
   "skip_h1_title": false,
   "toc_cell": false,
   "toc_position": {},
   "toc_section_display": "block",
   "toc_window_display": false
  }
 },
 "nbformat": 4,
 "nbformat_minor": 2
}
